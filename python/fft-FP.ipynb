{
 "cells": [
  {
   "cell_type": "code",
   "execution_count": 1,
   "metadata": {},
   "outputs": [],
   "source": [
    "def eval_poly_at(self, poly, x, modulus):\n",
    "    y = 0\n",
    "    power_of_x = 1\n",
    "    for coefficient in poly:\n",
    "        y += power_of_x * coefficient\n",
    "        power_of_x *= x\n",
    "    return y % modulus"
   ]
  },
  {
   "cell_type": "code",
   "execution_count": null,
   "metadata": {},
   "outputs": [],
   "source": []
  },
  {
   "cell_type": "code",
   "execution_count": 2,
   "metadata": {},
   "outputs": [],
   "source": [
    "def fft(vals, modulus, domain):\n",
    "    if len(vals) == 1:\n",
    "        return vals\n",
    "    L = fft(vals[::2], modulus, domain[::2])\n",
    "    R = fft(vals[1::2], modulus, domain[::2])\n",
    "    o = [0 for i in vals]\n",
    "    for i, (x, y) in enumerate(zip(L, R)):\n",
    "        \n",
    "        #print(\"i:%d :x:%d y:%d\" % (i, x, y))\n",
    "        y_times_root = y*domain[i]\n",
    "        o[i] = (x+y_times_root) % modulus\n",
    "        o[i+len(L)] = (x-y_times_root) % modulus\n",
    "    return o"
   ]
  },
  {
   "cell_type": "code",
   "execution_count": 3,
   "metadata": {},
   "outputs": [
    {
     "data": {
      "text/plain": [
       "[31, 70, 109, 74, 334, 181, 232, 4]"
      ]
     },
     "execution_count": 3,
     "metadata": {},
     "output_type": "execute_result"
    }
   ],
   "source": [
    "fft([3,1,4,1,5,9,2,6], 337, [1, 85, 148, 111, 336, 252, 189, 226])"
   ]
  },
  {
   "cell_type": "code",
   "execution_count": 14,
   "metadata": {},
   "outputs": [],
   "source": [
    "def modular_inverse(x, n): return pow(x, n - 2, n)\n",
    "\n",
    "def inverse_fft(vals, modulus, domain):\n",
    "    vals = fft(vals, modulus, domain)\n",
    "    \n",
    "    print(vals)\n",
    "    tmp = [x * modular_inverse(len(vals), modulus) % modulus for x in [vals[0]] + vals[1:][::-1]]\n",
    "           \n",
    "    return  tmp\n",
    "\n",
    "\n",
    "def inverse_fft1(vals, modulus, domain):\n",
    "    vals = fft(vals, modulus, domain)\n",
    "    \n",
    "    print(vals)\n",
    "    \n",
    "    tmp0 = [x for x in [vals[0]] + vals[1:][::-1]]\n",
    "    \n",
    "    print(tmp0)\n",
    "    \n",
    "    tmp = []\n",
    "    lenval = len(vals)\n",
    "    mi = modular_inverse(lenval, modulus)\n",
    "    for x in tmp0:\n",
    "        newmi = x * mi % modulus\n",
    "        print(\"%d = %d\" % (x, newmi))\n",
    "        tmp.append(newmi)\n",
    "    \n",
    "    #tmp = [x * modular_inverse(len(vals), modulus) % modulus for x in [vals[0]] + vals[1:][::-1]]\n",
    "           \n",
    "    return  tmp\n"
   ]
  },
  {
   "cell_type": "code",
   "execution_count": 15,
   "metadata": {},
   "outputs": [
    {
     "data": {
      "text/plain": [
       "[31, 70, 109, 74, 334, 181, 232, 4]"
      ]
     },
     "execution_count": 15,
     "metadata": {},
     "output_type": "execute_result"
    }
   ],
   "source": [
    "domain = [1, 85, 148, 111, 336, 252, 189, 226]\n",
    "\n",
    "\n",
    "xx = [3,1,4,1,5,9,2,6]\n",
    "values = fft(xx, 337, domain)\n",
    "values\n"
   ]
  },
  {
   "cell_type": "code",
   "execution_count": 16,
   "metadata": {},
   "outputs": [
    {
     "name": "stdout",
     "output_type": "stream",
     "text": [
      "[24, 48, 16, 72, 40, 8, 32, 8]\n",
      "[24, 8, 32, 8, 40, 72, 16, 48]\n",
      "24 = 3\n",
      "8 = 1\n",
      "32 = 4\n",
      "8 = 1\n",
      "40 = 5\n",
      "72 = 9\n",
      "16 = 2\n",
      "48 = 6\n"
     ]
    },
    {
     "data": {
      "text/plain": [
       "[3, 1, 4, 1, 5, 9, 2, 6]"
      ]
     },
     "execution_count": 16,
     "metadata": {},
     "output_type": "execute_result"
    }
   ],
   "source": [
    "# [24, 8, 32, 8, 40, 72, 16, 48]\n",
    "inverse_fft1(values, 337, domain)"
   ]
  },
  {
   "cell_type": "code",
   "execution_count": 20,
   "metadata": {},
   "outputs": [
    {
     "data": {
      "text/plain": [
       "[1, 1, 9, 6]"
      ]
     },
     "execution_count": 20,
     "metadata": {},
     "output_type": "execute_result"
    }
   ],
   "source": [
    "xx[1::2]"
   ]
  },
  {
   "cell_type": "code",
   "execution_count": 21,
   "metadata": {},
   "outputs": [
    {
     "data": {
      "text/plain": [
       "[3, 4, 5, 2]"
      ]
     },
     "execution_count": 21,
     "metadata": {},
     "output_type": "execute_result"
    }
   ],
   "source": [
    "xx[::2]"
   ]
  },
  {
   "cell_type": "code",
   "execution_count": 22,
   "metadata": {},
   "outputs": [
    {
     "data": {
      "text/plain": [
       "[4, 232, 181, 334, 74, 109, 70]"
      ]
     },
     "execution_count": 22,
     "metadata": {},
     "output_type": "execute_result"
    }
   ],
   "source": [
    "values[1:][::-1]"
   ]
  },
  {
   "cell_type": "code",
   "execution_count": 23,
   "metadata": {},
   "outputs": [
    {
     "data": {
      "text/plain": [
       "[31, 70, 109, 74, 334, 181, 232, 4]"
      ]
     },
     "execution_count": 23,
     "metadata": {},
     "output_type": "execute_result"
    }
   ],
   "source": [
    "values"
   ]
  },
  {
   "cell_type": "code",
   "execution_count": null,
   "metadata": {},
   "outputs": [],
   "source": []
  }
 ],
 "metadata": {
  "kernelspec": {
   "display_name": "Python 3",
   "language": "python",
   "name": "python3"
  },
  "language_info": {
   "codemirror_mode": {
    "name": "ipython",
    "version": 3
   },
   "file_extension": ".py",
   "mimetype": "text/x-python",
   "name": "python",
   "nbconvert_exporter": "python",
   "pygments_lexer": "ipython3",
   "version": "3.6.10"
  }
 },
 "nbformat": 4,
 "nbformat_minor": 4
}
